{
 "cells": [
  {
   "cell_type": "code",
   "execution_count": 32,
   "metadata": {},
   "outputs": [],
   "source": [
    "from openai import OpenAI\n",
    "\n",
    "# Modify OpenAI's API key and API base to use vLLM's API server.\n",
    "openai_api_key = \"EMPTY\"\n",
    "openai_api_base = \"http://localhost:8000/v1\"\n",
    "client = OpenAI(\n",
    "    api_key=openai_api_key,\n",
    "    base_url=openai_api_base,\n",
    ")"
   ]
  },
  {
   "cell_type": "code",
   "execution_count": null,
   "metadata": {},
   "outputs": [],
   "source": [
    "server_list=[\n",
    "{\n",
    "\"name\":\"Tanuki\",\n",
    "\"PORT\":8000,\n",
    "\"model\":\"hatakeyama-llm-team/Tanuki-8B-Instruct\",\n",
    "\"max-model-len\": 4000,\n",
    "\"gpu-memory-utilization\":0.2,\n",
    "\"GPU_ID\":0,\n",
    "},\n",
    "{\n",
    "\"name\":\"Tanuki\",\n",
    "\"PORT\":8001,\n",
    "\"model\":\"microsoft/Phi-3-medium-128k-instruct\",\n",
    "\"max-model-len\": 4000,\n",
    "\"gpu-memory-utilization\":0.2,\n",
    "\"GPU_ID\":1,\n",
    "},\n",
    "\n",
    "]\n",
    "\n",
    "\n",
    "\n",
    "#(llmeval) setup@SYS-551A-T-Workstation:/data/2024$ python -m vllm.entrypoints.openai.api_server --model microsoft/Phi-3-medium-128k-instruct --max-model-len 4000 --port 8001"
   ]
  },
  {
   "cell_type": "code",
   "execution_count": 33,
   "metadata": {},
   "outputs": [],
   "source": [
    "q=\"たぬきに純粋理性批判は理解できますか?\"\n",
    "completion = client.chat.completions.create(\n",
    "                                      model=\"hatakeyama-llm-team/Tanuki-8B-Instruct\",\n",
    "  messages=[\n",
    "    #{\"role\": \"system\", \"content\": \"以下は、タスクを説明する指示と、文脈のある入力の組み合わせです。要求を適切に満たす応答を書きなさい。\"},\n",
    "    {\"role\": \"user\", \"content\": q}\n",
    "  ]\n",
    ")\n"
   ]
  },
  {
   "cell_type": "code",
   "execution_count": 29,
   "metadata": {},
   "outputs": [],
   "source": [
    "# Modify OpenAI's API key and API base to use vLLM's API server.\n",
    "openai_api_key = \"EMPTY\"\n",
    "openai_api_base = \"http://localhost:8001/v1\"\n",
    "client = OpenAI(\n",
    "    api_key=openai_api_key,\n",
    "    base_url=openai_api_base,\n",
    ")\n",
    "q=\"たぬきに純粋理性批判は理解できますか?\"\n",
    "completion = client.chat.completions.create(\n",
    "                                      model=\"microsoft/Phi-3-medium-128k-instruct\",\n",
    "  messages=[\n",
    "    #{\"role\": \"system\", \"content\": \"以下は、タスクを説明する指示と、文脈のある入力の組み合わせです。要求を適切に満たす応答を書きなさい。\"},\n",
    "    {\"role\": \"user\", \"content\": q}\n",
    "  ]\n",
    ")\n",
    "\n"
   ]
  },
  {
   "cell_type": "code",
   "execution_count": 34,
   "metadata": {},
   "outputs": [
    {
     "data": {
      "text/plain": [
       "' たぬきには、人間の高度な思考を理解することができないかもしれません。しかし、簡単な指示や概念を説明することは可能です。純粋理性批判（Critique of Pure Reason）は、近代哲学の中心的な思想の一つであり、多くの人間が理解することが可能です。ただし、たぬきにもわかりやすく説明する必要があります。'"
      ]
     },
     "execution_count": 34,
     "metadata": {},
     "output_type": "execute_result"
    }
   ],
   "source": [
    "completion.choices[0].message.content"
   ]
  },
  {
   "cell_type": "code",
   "execution_count": 16,
   "metadata": {},
   "outputs": [
    {
     "data": {
      "text/plain": [
       "ChatCompletion(id='cmpl-a3200b34280e468a991ff5e49c01cd8c', choices=[Choice(finish_reason='stop', index=0, logprobs=None, message=ChatCompletionMessage(content=' はい、大丈夫です。あなたは？', role='assistant', function_call=None, tool_calls=None), stop_reason=None)], created=1717568033, model='hatakeyama-llm-team/Tanuki-8B-Instruct', object='chat.completion', system_fingerprint=None, usage=CompletionUsage(completion_tokens=13, prompt_tokens=20, total_tokens=33))"
      ]
     },
     "execution_count": 16,
     "metadata": {},
     "output_type": "execute_result"
    }
   ],
   "source": [
    "completion"
   ]
  },
  {
   "cell_type": "code",
   "execution_count": null,
   "metadata": {},
   "outputs": [],
   "source": []
  }
 ],
 "metadata": {
  "kernelspec": {
   "display_name": "llmeval",
   "language": "python",
   "name": "python3"
  },
  "language_info": {
   "codemirror_mode": {
    "name": "ipython",
    "version": 3
   },
   "file_extension": ".py",
   "mimetype": "text/x-python",
   "name": "python",
   "nbconvert_exporter": "python",
   "pygments_lexer": "ipython3",
   "version": "3.11.8"
  }
 },
 "nbformat": 4,
 "nbformat_minor": 2
}
