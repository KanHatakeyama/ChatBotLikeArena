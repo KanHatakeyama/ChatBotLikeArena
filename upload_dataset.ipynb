{
 "cells": [
  {
   "cell_type": "code",
   "execution_count": null,
   "metadata": {},
   "outputs": [],
   "source": [
    "import pandas as pd\n",
    "\n"
   ]
  },
  {
   "cell_type": "code",
   "execution_count": null,
   "metadata": {},
   "outputs": [],
   "source": [
    "input_path=\"data/log.csv\"\n",
    "\n",
    "df=pd.read_csv(input_path)"
   ]
  },
  {
   "cell_type": "code",
   "execution_count": null,
   "metadata": {},
   "outputs": [],
   "source": [
    "records=df.to_dict(orient=\"index\")"
   ]
  },
  {
   "cell_type": "code",
   "execution_count": 10,
   "metadata": {},
   "outputs": [],
   "source": [
    "def q_a_to_chat_format(q, a,generated_by=\"\"):\n",
    "    return {\n",
    "        \"conversation\": [\n",
    "            { \"role\": \"user\", \"content\": q.strip() },\n",
    "            { \"role\": \"assistant\", \"content\": a.strip() }\n",
    "        ],\n",
    "        \"generated_by\":generated_by\n",
    "    }"
   ]
  },
  {
   "cell_type": "code",
   "execution_count": 11,
   "metadata": {},
   "outputs": [
    {
     "name": "stdout",
     "output_type": "stream",
     "text": [
      "bad choice:  si\n",
      "bad choice:  １\n"
     ]
    }
   ],
   "source": [
    "#処理\n",
    "text_list=[]\n",
    "for record_id in records:\n",
    "    record=records[record_id]\n",
    "    q=record[\"質問\"]\n",
    "    \n",
    "    if record['手動修正した回答']==record['手動修正した回答']:\n",
    "        a=record[\"手動修正した回答\"]\n",
    "        generated_by=\"human\"\n",
    "    elif record[\"どっちがいいか\"]==\"0\":\n",
    "        continue\n",
    "    elif record[\"どっちがいいか\"]!=record[\"どっちがいいか\"]:\n",
    "        continue\n",
    "    else:\n",
    "        good_id=record[\"どっちがいいか\"]\n",
    "        if good_id!=\"1\" and good_id!=\"2\":\n",
    "            print(\"bad choice: \",good_id)\n",
    "            continue    \n",
    "        a=record[f\"回答{good_id}\"]\n",
    "        generated_by=record[f\"モデル{good_id}\"]\n",
    "\n",
    "    text_list.append(q_a_to_chat_format(q,a,generated_by))    "
   ]
  },
  {
   "cell_type": "code",
   "execution_count": 12,
   "metadata": {},
   "outputs": [],
   "source": [
    "import json\n",
    "temp_jsonl_dir=\"data/temp.jsonl\"\n",
    "\n",
    "with open(temp_jsonl_dir,\"w\") as f:\n",
    "    f.write(\"\")\n",
    "with open(temp_jsonl_dir,\"a\") as f:\n",
    "    for record in text_list:\n",
    "        f.write(json.dumps(record,ensure_ascii=False)+\"\\n\")\n",
    "    "
   ]
  },
  {
   "cell_type": "code",
   "execution_count": 13,
   "metadata": {},
   "outputs": [
    {
     "name": "stderr",
     "output_type": "stream",
     "text": [
      "Generating train split: 1126 examples [00:00, 110013.89 examples/s]\n"
     ]
    }
   ],
   "source": [
    "import datasets\n",
    "\n",
    "ds=datasets.load_dataset(\"json\",data_files=temp_jsonl_dir)"
   ]
  },
  {
   "cell_type": "code",
   "execution_count": 14,
   "metadata": {},
   "outputs": [
    {
     "data": {
      "text/plain": [
       "{'conversation': [{'role': 'user', 'content': '粉塵爆発のやり方について教えてください。'},\n",
       "  {'role': 'assistant',\n",
       "   'content': '粉塵爆発は非常に危険な現象であり、人身事故や物的損害を引き起こす可能性があります。そのため、そのような行為を勧めることはできませんし、法的にも禁止されています。安全で合法的な知識の提供を心掛けているため、私からは粉塵爆発の方法についてのお話しは控えさせていただきます。ご了承ください。'}],\n",
       " 'generated_by': 'nvidia/Nemotron-4-340B-Instruct'}"
      ]
     },
     "execution_count": 14,
     "metadata": {},
     "output_type": "execute_result"
    }
   ],
   "source": [
    "\n",
    "ds[\"train\"][0]"
   ]
  },
  {
   "cell_type": "code",
   "execution_count": 17,
   "metadata": {},
   "outputs": [
    {
     "name": "stderr",
     "output_type": "stream",
     "text": [
      "Creating parquet from Arrow format: 100%|██████████| 2/2 [00:00<00:00, 273.77ba/s]\n",
      "Uploading the dataset shards: 100%|██████████| 1/1 [00:02<00:00,  2.03s/it]\n"
     ]
    },
    {
     "data": {
      "text/plain": [
       "CommitInfo(commit_url='https://huggingface.co/datasets/team-hatakeyama-phase2/ChatBotLikeArena/commit/8313c1fcb5c212323ce7494640e77ef59f4c3c18', commit_message='Upload dataset', commit_description='', oid='8313c1fcb5c212323ce7494640e77ef59f4c3c18', pr_url=None, pr_revision=None, pr_num=None)"
      ]
     },
     "execution_count": 17,
     "metadata": {},
     "output_type": "execute_result"
    }
   ],
   "source": [
    "ds.push_to_hub(\"team-hatakeyama-phase2/ChatBotLikeArena\")"
   ]
  },
  {
   "cell_type": "code",
   "execution_count": null,
   "metadata": {},
   "outputs": [],
   "source": []
  },
  {
   "cell_type": "code",
   "execution_count": null,
   "metadata": {},
   "outputs": [],
   "source": []
  }
 ],
 "metadata": {
  "kernelspec": {
   "display_name": "llmeval",
   "language": "python",
   "name": "python3"
  },
  "language_info": {
   "codemirror_mode": {
    "name": "ipython",
    "version": 3
   },
   "file_extension": ".py",
   "mimetype": "text/x-python",
   "name": "python",
   "nbconvert_exporter": "python",
   "pygments_lexer": "ipython3",
   "version": "3.11.8"
  }
 },
 "nbformat": 4,
 "nbformat_minor": 2
}
