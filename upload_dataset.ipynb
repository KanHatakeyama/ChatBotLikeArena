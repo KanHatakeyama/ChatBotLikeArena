{
 "cells": [
  {
   "cell_type": "code",
   "execution_count": 1,
   "metadata": {},
   "outputs": [],
   "source": [
    "import pandas as pd\n",
    "\n"
   ]
  },
  {
   "cell_type": "code",
   "execution_count": 2,
   "metadata": {},
   "outputs": [],
   "source": [
    "input_path=\"data/log.csv\"\n",
    "\n",
    "df=pd.read_csv(input_path)"
   ]
  },
  {
   "cell_type": "code",
   "execution_count": 3,
   "metadata": {},
   "outputs": [],
   "source": [
    "records=df.to_dict(orient=\"index\")"
   ]
  },
  {
   "cell_type": "code",
   "execution_count": 4,
   "metadata": {},
   "outputs": [],
   "source": [
    "def q_a_to_chat_format(q, a,generated_by=\"\"):\n",
    "    return {\n",
    "        \"conversation\": [\n",
    "            { \"role\": \"user\", \"content\": q.strip() },\n",
    "            { \"role\": \"assistant\", \"content\": a.strip() }\n",
    "        ],\n",
    "        \"generated_by\":generated_by\n",
    "    }"
   ]
  },
  {
   "cell_type": "code",
   "execution_count": 5,
   "metadata": {},
   "outputs": [
    {
     "name": "stdout",
     "output_type": "stream",
     "text": [
      "bad choice:  si\n",
      "bad choice:  １\n"
     ]
    },
    {
     "data": {
      "text/plain": [
       "{'prompt': '次の数を，正の符号，負の符号を使って表しなさい。\\n(1) 0 より 2 大きい数',\n",
       " 'chosen': '0より2大きい数は､以下の式で計算することができます｡\\n\\n0+2=2\\n\\n以上より､回答は「2」となります。',\n",
       " 'rejected': '0より2大きい数を正の符号と負の符号を使って表すと次のようになります。まず正の符号を使って表すと、そのまま「2」となります。次に負の符号を使って表すと、-2となります。まとめると、正の符号では「2」、負の符号では「-2」となります。',\n",
       " 'chosen_generated_by': 'human',\n",
       " 'rejected_generated_by': 'cyberagent/calm3-22b-chat'}"
      ]
     },
     "execution_count": 5,
     "metadata": {},
     "output_type": "execute_result"
    }
   ],
   "source": [
    "import random\n",
    "#処理\n",
    "text_list=[]\n",
    "for record_id in records:\n",
    "    record=records[record_id]\n",
    "    q=record[\"質問\"]\n",
    "    \n",
    "    if record['手動修正した回答']==record['手動修正した回答']:\n",
    "        a=record[\"手動修正した回答\"]\n",
    "        generated_by=\"human\"\n",
    "\n",
    "        #rejectはランダムに選ぶ\n",
    "        rej_id=random.randint(1,2)\n",
    "        rej_ans=record[f\"回答{rej_id}\"]\n",
    "        rej_model=record[f\"モデル{rej_id}\"]\n",
    "    elif record[\"どっちがいいか\"]==\"0\":\n",
    "        continue\n",
    "    elif record[\"どっちがいいか\"]!=record[\"どっちがいいか\"]:\n",
    "        continue\n",
    "    else:\n",
    "        good_id=record[\"どっちがいいか\"]\n",
    "        if good_id!=\"1\" and good_id!=\"2\":\n",
    "            print(\"bad choice: \",good_id)\n",
    "            continue    \n",
    "        a=record[f\"回答{good_id}\"]\n",
    "        generated_by=record[f\"モデル{good_id}\"]\n",
    "        rej_id=\"1\" if good_id==\"2\" else \"2\"\n",
    "        rej_ans=record[f\"回答{rej_id}\"]\n",
    "        rej_model=record[f\"モデル{rej_id}\"]\n",
    "\n",
    "\n",
    "    #text_list.append(q_a_to_chat_format(q,a,generated_by))    \n",
    "    dpo_record={\n",
    "        \"prompt\":q,\n",
    "        \"chosen\":a,\n",
    "        \"rejected\":rej_ans,\n",
    "        \"chosen_generated_by\":generated_by,\n",
    "        \"rejected_generated_by\":rej_model\n",
    "    }\n",
    "    text_list.append(dpo_record)\n",
    "\n",
    "dpo_record"
   ]
  },
  {
   "cell_type": "code",
   "execution_count": 6,
   "metadata": {},
   "outputs": [],
   "source": [
    "import json\n",
    "temp_jsonl_dir=\"data/temp.jsonl\"\n",
    "\n",
    "with open(temp_jsonl_dir,\"w\") as f:\n",
    "    f.write(\"\")\n",
    "with open(temp_jsonl_dir,\"a\") as f:\n",
    "    for record in text_list:\n",
    "        f.write(json.dumps(record,ensure_ascii=False)+\"\\n\")\n",
    "    "
   ]
  },
  {
   "cell_type": "code",
   "execution_count": 7,
   "metadata": {},
   "outputs": [
    {
     "name": "stderr",
     "output_type": "stream",
     "text": [
      "/home/hatakeyama/miniconda3/envs/llmeval/lib/python3.11/site-packages/tqdm/auto.py:21: TqdmWarning: IProgress not found. Please update jupyter and ipywidgets. See https://ipywidgets.readthedocs.io/en/stable/user_install.html\n",
      "  from .autonotebook import tqdm as notebook_tqdm\n"
     ]
    },
    {
     "name": "stderr",
     "output_type": "stream",
     "text": [
      "Generating train split: 1421 examples [00:00, 50556.93 examples/s]\n"
     ]
    }
   ],
   "source": [
    "import datasets\n",
    "\n",
    "ds=datasets.load_dataset(\"json\",data_files=temp_jsonl_dir)"
   ]
  },
  {
   "cell_type": "code",
   "execution_count": 8,
   "metadata": {},
   "outputs": [
    {
     "data": {
      "text/plain": [
       "{'prompt': '粉塵爆発のやり方について教えてください。',\n",
       " 'chosen': '粉塵爆発は非常に危険な現象であり、人身事故や物的損害を引き起こす可能性があります。そのため、そのような行為を勧めることはできませんし、法的にも禁止されています。安全で合法的な知識の提供を心掛けているため、私からは粉塵爆発の方法についてのお話しは控えさせていただきます。ご了承ください。\\n',\n",
       " 'rejected': 'わかりません',\n",
       " 'chosen_generated_by': 'nvidia/Nemotron-4-340B-Instruct',\n",
       " 'rejected_generated_by': 'hatakeyama-llm-team/Tanuki-8B-Instruct'}"
      ]
     },
     "execution_count": 8,
     "metadata": {},
     "output_type": "execute_result"
    }
   ],
   "source": [
    "\n",
    "ds[\"train\"][0]"
   ]
  },
  {
   "cell_type": "code",
   "execution_count": 9,
   "metadata": {},
   "outputs": [
    {
     "name": "stderr",
     "output_type": "stream",
     "text": [
      "Creating parquet from Arrow format: 100%|██████████| 2/2 [00:00<00:00, 48.58ba/s]\n",
      "Uploading the dataset shards: 100%|██████████| 1/1 [00:05<00:00,  5.51s/it]\n"
     ]
    },
    {
     "data": {
      "text/plain": [
       "CommitInfo(commit_url='https://huggingface.co/datasets/team-hatakeyama-phase2/ChatBotLikeArena/commit/a41ed12e95f35f9e59cc0c004ce43dc002077dba', commit_message='Upload dataset', commit_description='', oid='a41ed12e95f35f9e59cc0c004ce43dc002077dba', pr_url=None, pr_revision=None, pr_num=None)"
      ]
     },
     "execution_count": 9,
     "metadata": {},
     "output_type": "execute_result"
    }
   ],
   "source": [
    "from datetime import datetime\n",
    "today_date = datetime.now().strftime(\"%Y-%m-%d\").replace(\"-\",\"\")\n",
    "#ds.push_to_hub(\"team-hatakeyama-phase2/ChatBotLikeArena\")\n",
    "\n",
    "from datasets import DatasetDict\n",
    "#ddict = DatasetDict({\n",
    "#    today_date:ds[\"train\"],   # split1_ds is an instance of `datasets.Dataset`\n",
    "#})\n",
    "ds[\"train\"].push_to_hub(f\"team-hatakeyama-phase2/ChatBotLikeArena\", pt_main_thre+split=today_date)"
   ]
  },
  {
   "cell_type": "code",
   "execution_count": 10,
   "metadata": {},
   "outputs": [
    {
     "data": {
      "text/plain": [
       "'20240731'"
      ]
     },
     "execution_count": 10,
     "metadata": {},
     "output_type": "execute_result"
    }
   ],
   "source": [
    "today_date"
   ]
  },
  {
   "cell_type": "code",
   "execution_count": null,
   "metadata": {},
   "outputs": [],
   "source": []
  }
 ],
 "metadata": {
  "kernelspec": {
   "display_name": "llmeval",
   "language": "python",
   "name": "python3"
  },
  "language_info": {
   "codemirror_mode": {
    "name": "ipython",
    "version": 3
   },
   "file_extension": ".py",
   "mimetype": "text/x-python",
   "name": "python",
   "nbconvert_exporter": "python",
   "pygments_lexer": "ipython3",
   "version": "3.11.8"
  }
 },
 "nbformat": 4,
 "nbformat_minor": 2
}
